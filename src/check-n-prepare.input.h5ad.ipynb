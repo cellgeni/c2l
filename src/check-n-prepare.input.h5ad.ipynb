{
 "cells": [
  {
   "cell_type": "markdown",
   "id": "cleared-wallace",
   "metadata": {},
   "source": [
    "The goal of this notebook is to prepare reference and visum data and save them as h5ad files\n",
    "Do not forget to check:\n",
    "1. check presence of all necessary covariates in adata.obs\n",
    "2. check number of cell per each type; cell types with less than 20 (50?) cells should be used with caution (it is better to remove them)\n",
    "3. remove MT genes\n",
    "4. adata.X stores raw (at least integer) read counts. Try denormalization with CalculateRaw otherwise\n",
    "5. ensure that both vis and ref use same gene naming (names or ens ids)\n"
   ]
  },
  {
   "cell_type": "code",
   "execution_count": 1,
   "id": "thick-reserve",
   "metadata": {},
   "outputs": [],
   "source": [
    "import scanpy as sc\n",
    "import matplotlib.pyplot as plt\n",
    "import numpy as np\n",
    "import anndata\n",
    "from collections import Counter\n",
    "import glob\n",
    "import math"
   ]
  },
  {
   "cell_type": "markdown",
   "id": "reflected-fight",
   "metadata": {},
   "source": [
    "# Reference\n",
    "## load data"
   ]
  },
  {
   "cell_type": "code",
   "execution_count": 2,
   "id": "pharmaceutical-tracker",
   "metadata": {},
   "outputs": [],
   "source": [
    "lustre_path='/lustre/scratch117/cellgen/cellgeni/TIC-misc/tic-1632'"
   ]
  },
  {
   "cell_type": "code",
   "execution_count": 4,
   "id": "special-scroll",
   "metadata": {},
   "outputs": [
    {
     "data": {
      "text/plain": [
       "(225206, 30507)"
      ]
     },
     "execution_count": 4,
     "metadata": {},
     "output_type": "execute_result"
    }
   ],
   "source": [
    "ref = sc.read_h5ad('/nfs/team205/ly5/adult_endo/visium/gut/visium_ref_gut_12organs_20220618.h5ad')\n",
    "ref.shape"
   ]
  },
  {
   "cell_type": "markdown",
   "id": "fifty-missouri",
   "metadata": {},
   "source": [
    "## Check genes"
   ]
  },
  {
   "cell_type": "code",
   "execution_count": 5,
   "id": "cellular-colorado",
   "metadata": {},
   "outputs": [
    {
     "data": {
      "text/html": [
       "<div>\n",
       "<style scoped>\n",
       "    .dataframe tbody tr th:only-of-type {\n",
       "        vertical-align: middle;\n",
       "    }\n",
       "\n",
       "    .dataframe tbody tr th {\n",
       "        vertical-align: top;\n",
       "    }\n",
       "\n",
       "    .dataframe thead th {\n",
       "        text-align: right;\n",
       "    }\n",
       "</style>\n",
       "<table border=\"1\" class=\"dataframe\">\n",
       "  <thead>\n",
       "    <tr style=\"text-align: right;\">\n",
       "      <th></th>\n",
       "      <th>gene_ids-0</th>\n",
       "      <th>feature_types-0</th>\n",
       "      <th>ENSG-0-0-0-1</th>\n",
       "      <th>gene_names_hg_v3.0-0-0-0-1</th>\n",
       "      <th>gene_names_hg_v1.2-0-0-0-1</th>\n",
       "      <th>gene_names_kidney-0-0-0-1</th>\n",
       "    </tr>\n",
       "  </thead>\n",
       "  <tbody>\n",
       "    <tr>\n",
       "      <th>MIR1302-2HG</th>\n",
       "      <td>ENSG00000243485</td>\n",
       "      <td>Gene Expression</td>\n",
       "      <td>ENSG00000243485</td>\n",
       "      <td>MIR1302-2HG</td>\n",
       "      <td>RP11-34P13.3</td>\n",
       "      <td>MIR1302-10</td>\n",
       "    </tr>\n",
       "    <tr>\n",
       "      <th>FAM138A</th>\n",
       "      <td>ENSG00000237613</td>\n",
       "      <td>Gene Expression</td>\n",
       "      <td>ENSG00000237613</td>\n",
       "      <td>FAM138A</td>\n",
       "      <td>FAM138A</td>\n",
       "      <td>FAM138A</td>\n",
       "    </tr>\n",
       "    <tr>\n",
       "      <th>AL627309.1</th>\n",
       "      <td>ENSG00000238009</td>\n",
       "      <td>Gene Expression</td>\n",
       "      <td>ENSG00000238009</td>\n",
       "      <td>AL627309.1</td>\n",
       "      <td>RP11-34P13.7</td>\n",
       "      <td>RP11-34P13.7</td>\n",
       "    </tr>\n",
       "    <tr>\n",
       "      <th>AL627309.3</th>\n",
       "      <td>ENSG00000239945</td>\n",
       "      <td>Gene Expression</td>\n",
       "      <td>ENSG00000239945</td>\n",
       "      <td>AL627309.3</td>\n",
       "      <td>RP11-34P13.8</td>\n",
       "      <td>RP11-34P13.8</td>\n",
       "    </tr>\n",
       "    <tr>\n",
       "      <th>AL627309.2</th>\n",
       "      <td>ENSG00000239906</td>\n",
       "      <td>Gene Expression</td>\n",
       "      <td>ENSG00000239906</td>\n",
       "      <td>AL627309.2</td>\n",
       "      <td>RP11-34P13.14</td>\n",
       "      <td>RP11-34P13.14</td>\n",
       "    </tr>\n",
       "    <tr>\n",
       "      <th>...</th>\n",
       "      <td>...</td>\n",
       "      <td>...</td>\n",
       "      <td>...</td>\n",
       "      <td>...</td>\n",
       "      <td>...</td>\n",
       "      <td>...</td>\n",
       "    </tr>\n",
       "    <tr>\n",
       "      <th>AC004556.1</th>\n",
       "      <td>ENSG00000276345</td>\n",
       "      <td>Gene Expression</td>\n",
       "      <td>ENSG00000276345</td>\n",
       "      <td>AC004556.1</td>\n",
       "      <td>AC004556.1</td>\n",
       "      <td>nan</td>\n",
       "    </tr>\n",
       "    <tr>\n",
       "      <th>AC233755.2</th>\n",
       "      <td>ENSG00000277856</td>\n",
       "      <td>Gene Expression</td>\n",
       "      <td>ENSG00000277856</td>\n",
       "      <td>AC233755.2</td>\n",
       "      <td>AC233755.2</td>\n",
       "      <td>nan</td>\n",
       "    </tr>\n",
       "    <tr>\n",
       "      <th>AC233755.1</th>\n",
       "      <td>ENSG00000275063</td>\n",
       "      <td>Gene Expression</td>\n",
       "      <td>ENSG00000275063</td>\n",
       "      <td>AC233755.1</td>\n",
       "      <td>AC233755.1</td>\n",
       "      <td>nan</td>\n",
       "    </tr>\n",
       "    <tr>\n",
       "      <th>AC240274.1</th>\n",
       "      <td>ENSG00000271254</td>\n",
       "      <td>Gene Expression</td>\n",
       "      <td>ENSG00000271254</td>\n",
       "      <td>AC240274.1</td>\n",
       "      <td>AC240274.1</td>\n",
       "      <td>nan</td>\n",
       "    </tr>\n",
       "    <tr>\n",
       "      <th>FAM231C</th>\n",
       "      <td>ENSG00000268674</td>\n",
       "      <td>Gene Expression</td>\n",
       "      <td>ENSG00000268674</td>\n",
       "      <td>FAM231C</td>\n",
       "      <td>FAM231B</td>\n",
       "      <td>FAM231B</td>\n",
       "    </tr>\n",
       "  </tbody>\n",
       "</table>\n",
       "<p>30507 rows × 6 columns</p>\n",
       "</div>"
      ],
      "text/plain": [
       "                  gene_ids-0  feature_types-0     ENSG-0-0-0-1  \\\n",
       "MIR1302-2HG  ENSG00000243485  Gene Expression  ENSG00000243485   \n",
       "FAM138A      ENSG00000237613  Gene Expression  ENSG00000237613   \n",
       "AL627309.1   ENSG00000238009  Gene Expression  ENSG00000238009   \n",
       "AL627309.3   ENSG00000239945  Gene Expression  ENSG00000239945   \n",
       "AL627309.2   ENSG00000239906  Gene Expression  ENSG00000239906   \n",
       "...                      ...              ...              ...   \n",
       "AC004556.1   ENSG00000276345  Gene Expression  ENSG00000276345   \n",
       "AC233755.2   ENSG00000277856  Gene Expression  ENSG00000277856   \n",
       "AC233755.1   ENSG00000275063  Gene Expression  ENSG00000275063   \n",
       "AC240274.1   ENSG00000271254  Gene Expression  ENSG00000271254   \n",
       "FAM231C      ENSG00000268674  Gene Expression  ENSG00000268674   \n",
       "\n",
       "            gene_names_hg_v3.0-0-0-0-1 gene_names_hg_v1.2-0-0-0-1  \\\n",
       "MIR1302-2HG                MIR1302-2HG               RP11-34P13.3   \n",
       "FAM138A                        FAM138A                    FAM138A   \n",
       "AL627309.1                  AL627309.1               RP11-34P13.7   \n",
       "AL627309.3                  AL627309.3               RP11-34P13.8   \n",
       "AL627309.2                  AL627309.2              RP11-34P13.14   \n",
       "...                                ...                        ...   \n",
       "AC004556.1                  AC004556.1                 AC004556.1   \n",
       "AC233755.2                  AC233755.2                 AC233755.2   \n",
       "AC233755.1                  AC233755.1                 AC233755.1   \n",
       "AC240274.1                  AC240274.1                 AC240274.1   \n",
       "FAM231C                        FAM231C                    FAM231B   \n",
       "\n",
       "            gene_names_kidney-0-0-0-1  \n",
       "MIR1302-2HG                MIR1302-10  \n",
       "FAM138A                       FAM138A  \n",
       "AL627309.1               RP11-34P13.7  \n",
       "AL627309.3               RP11-34P13.8  \n",
       "AL627309.2              RP11-34P13.14  \n",
       "...                               ...  \n",
       "AC004556.1                        nan  \n",
       "AC233755.2                        nan  \n",
       "AC233755.1                        nan  \n",
       "AC240274.1                        nan  \n",
       "FAM231C                       FAM231B  \n",
       "\n",
       "[30507 rows x 6 columns]"
      ]
     },
     "execution_count": 5,
     "metadata": {},
     "output_type": "execute_result"
    }
   ],
   "source": [
    "ref.var"
   ]
  },
  {
   "cell_type": "code",
   "execution_count": 12,
   "id": "derived-upper",
   "metadata": {},
   "outputs": [
    {
     "data": {
      "text/plain": [
       "Counter({True: 30507})"
      ]
     },
     "execution_count": 12,
     "metadata": {},
     "output_type": "execute_result"
    }
   ],
   "source": [
    "a = [not str(gene).startswith('MT-') for gene in ref.var['gene_names_hg_v3.0-0-0-0-1']]\n",
    "Counter(a)"
   ]
  },
  {
   "cell_type": "code",
   "execution_count": 13,
   "id": "dated-treasury",
   "metadata": {},
   "outputs": [
    {
     "name": "stderr",
     "output_type": "stream",
     "text": [
      "/opt/conda/lib/python3.8/site-packages/pandas/core/arrays/categorical.py:2487: FutureWarning: The `inplace` parameter in pandas.Categorical.remove_unused_categories is deprecated and will be removed in a future version.\n",
      "  res = method(*args, **kwargs)\n"
     ]
    },
    {
     "data": {
      "text/plain": [
       "(225206, 30507)"
      ]
     },
     "execution_count": 13,
     "metadata": {},
     "output_type": "execute_result"
    }
   ],
   "source": [
    "ref = ref[:,a]\n",
    "ref.shape"
   ]
  },
  {
   "cell_type": "markdown",
   "id": "becoming-pollution",
   "metadata": {},
   "source": [
    "## Check counts"
   ]
  },
  {
   "cell_type": "code",
   "execution_count": 8,
   "id": "billion-scale",
   "metadata": {},
   "outputs": [],
   "source": [
    "# from https://github.com/brianpenghe/python-genomics/blob/master/Scanpyplus.py\n",
    "def CalculateRaw(adata,scaling_factor=10000):\n",
    "    #update by Polanski in Feb 2022\n",
    "    #The object must contain a log-transformed matrix\n",
    "    #This function returns an integer-count object\n",
    "    #The normalization constant is assumed to be 10000\n",
    "    #return anndata.AnnData(X=sparse.csr_matrix(np.rint(np.array(np.expm1(adata.X).todense().transpose())*(adata.obs['n_counts'].values).transpose() / scaling_factor).transpose()),\\\n",
    "    #              obs=adata.obs,var=adata.var,obsm=adata.obsm,varm=adata.varm)\n",
    "    X = np.expm1(adata.X)\n",
    "    scaling_vector = adata.obs['n_counts'].values / scaling_factor\n",
    "    #.indptr[i]:.indptr[i+1] provides the .data coordinates where the i'th row of the data resides in CSR\n",
    "    #which happens to be a cell, which happens to be what we have a unique entry in scaling_vector for\n",
    "    for i in np.arange(X.shape[0]):\n",
    "        X.data[X.indptr[i]:X.indptr[i+1]] = X.data[X.indptr[i]:X.indptr[i+1]] * scaling_vector[i]\n",
    "    return anndata.AnnData(X=np.rint(X),obs=adata.obs,var=adata.var,obsm=adata.obsm,varm=adata.varm)"
   ]
  },
  {
   "cell_type": "code",
   "execution_count": 14,
   "id": "difficult-action",
   "metadata": {},
   "outputs": [
    {
     "data": {
      "text/plain": [
       "array([1.005e+03, 6.000e+00, 2.740e+02, ..., 1.000e+00, 1.000e+00,\n",
       "       3.000e+00], dtype=float32)"
      ]
     },
     "execution_count": 14,
     "metadata": {},
     "output_type": "execute_result"
    }
   ],
   "source": [
    "ref.X.data"
   ]
  },
  {
   "cell_type": "code",
   "execution_count": 23,
   "id": "right-argentina",
   "metadata": {},
   "outputs": [
    {
     "data": {
      "text/plain": [
       "(array([2.14603939e+08, 0.00000000e+00, 0.00000000e+00, 0.00000000e+00,\n",
       "        0.00000000e+00, 0.00000000e+00, 4.77986920e+07, 0.00000000e+00,\n",
       "        0.00000000e+00, 0.00000000e+00, 1.80578200e+07, 0.00000000e+00,\n",
       "        0.00000000e+00, 9.15067500e+06, 0.00000000e+00, 5.49321000e+06,\n",
       "        0.00000000e+00, 3.66168600e+06, 0.00000000e+00, 2.62629800e+06,\n",
       "        1.97765900e+06, 1.54544500e+06, 1.24523700e+06, 1.02521000e+06,\n",
       "        8.58892000e+05, 1.36249900e+06, 5.48560000e+05, 9.07928000e+05,\n",
       "        7.20789000e+05, 5.86591000e+05, 4.86532000e+05, 5.88268000e+05,\n",
       "        4.65373000e+05, 3.77325000e+05, 3.10252000e+05, 3.35619000e+05,\n",
       "        2.69273000e+05, 2.68482000e+05, 2.13980000e+05, 2.04654000e+05,\n",
       "        1.63445000e+05, 1.51223000e+05, 1.36590000e+05, 1.21352000e+05,\n",
       "        9.60760000e+04, 9.37910000e+04, 8.08940000e+04, 6.94750000e+04,\n",
       "        6.06260000e+04, 5.52100000e+04, 4.91670000e+04, 4.33890000e+04,\n",
       "        3.77670000e+04, 3.26780000e+04, 2.80190000e+04, 2.58790000e+04,\n",
       "        2.26950000e+04, 1.99990000e+04, 1.78080000e+04, 1.60810000e+04,\n",
       "        1.46690000e+04, 1.26330000e+04, 1.12330000e+04, 9.90400000e+03,\n",
       "        8.22700000e+03, 7.23800000e+03, 6.38900000e+03, 5.63400000e+03,\n",
       "        4.78700000e+03, 4.23300000e+03, 3.64500000e+03, 3.14500000e+03,\n",
       "        2.75500000e+03, 2.21400000e+03, 1.77400000e+03, 1.43600000e+03,\n",
       "        1.16300000e+03, 8.74000000e+02, 7.44000000e+02, 5.91000000e+02,\n",
       "        5.16000000e+02, 4.81000000e+02, 4.74000000e+02, 4.26000000e+02,\n",
       "        3.67000000e+02, 3.96000000e+02, 3.42000000e+02, 3.42000000e+02,\n",
       "        3.49000000e+02, 2.73000000e+02, 1.95000000e+02, 1.63000000e+02,\n",
       "        1.18000000e+02, 7.80000000e+01, 4.00000000e+01, 1.50000000e+01,\n",
       "        1.00000000e+01, 4.00000000e+00, 2.00000000e+00, 5.00000000e+00]),\n",
       " array([0.        , 0.04434441, 0.08868882, 0.13303323, 0.17737764,\n",
       "        0.22172205, 0.26606646, 0.3104109 , 0.35475528, 0.3990997 ,\n",
       "        0.4434441 , 0.48778853, 0.5321329 , 0.57647735, 0.6208218 ,\n",
       "        0.66516614, 0.70951056, 0.753855  , 0.7981994 , 0.8425438 ,\n",
       "        0.8868882 , 0.93123263, 0.97557706, 1.0199214 , 1.0642658 ,\n",
       "        1.1086103 , 1.1529547 , 1.1972991 , 1.2416435 , 1.285988  ,\n",
       "        1.3303323 , 1.3746767 , 1.4190211 , 1.4633656 , 1.50771   ,\n",
       "        1.5520544 , 1.5963988 , 1.6407433 , 1.6850876 , 1.729432  ,\n",
       "        1.7737764 , 1.8181208 , 1.8624653 , 1.9068097 , 1.9511541 ,\n",
       "        1.9954985 , 2.0398428 , 2.0841873 , 2.1285317 , 2.1728761 ,\n",
       "        2.2172205 , 2.261565  , 2.3059094 , 2.3502538 , 2.3945982 ,\n",
       "        2.4389427 , 2.483287  , 2.5276315 , 2.571976  , 2.6163201 ,\n",
       "        2.6606646 , 2.705009  , 2.7493534 , 2.7936978 , 2.8380423 ,\n",
       "        2.8823867 , 2.926731  , 2.9710755 , 3.01542   , 3.0597644 ,\n",
       "        3.1041088 , 3.1484532 , 3.1927977 , 3.237142  , 3.2814865 ,\n",
       "        3.325831  , 3.3701751 , 3.4145195 , 3.458864  , 3.5032084 ,\n",
       "        3.5475528 , 3.5918972 , 3.6362417 , 3.680586  , 3.7249305 ,\n",
       "        3.769275  , 3.8136194 , 3.8579638 , 3.9023082 , 3.9466527 ,\n",
       "        3.990997  , 4.0353413 , 4.0796857 , 4.12403   , 4.1683745 ,\n",
       "        4.212719  , 4.2570634 , 4.301408  , 4.3457522 , 4.3900967 ,\n",
       "        4.434441  ], dtype=float32),\n",
       " <BarContainer object of 100 artists>)"
      ]
     },
     "execution_count": 23,
     "metadata": {},
     "output_type": "execute_result"
    },
    {
     "data": {
      "image/png": "[encoded data removed]",
      "text/plain": [
       "<Figure size 432x288 with 1 Axes>"
      ]
     },
     "metadata": {
      "needs_background": "light"
     },
     "output_type": "display_data"
    }
   ],
   "source": [
    "plt.hist(np.log10(ref.X.data),100)"
   ]
  },
  {
   "cell_type": "code",
   "execution_count": null,
   "id": "narrative-stationery",
   "metadata": {},
   "outputs": [],
   "source": [
    "# de norm\n",
    "# Ling told data are raw, so no de-norm is required\n",
    "# ref = CalculateRaw(ref)\n",
    "# ref.X.data"
   ]
  },
  {
   "cell_type": "code",
   "execution_count": 10,
   "id": "standing-tutorial",
   "metadata": {},
   "outputs": [
    {
     "data": {
      "text/plain": [
       "[<matplotlib.lines.Line2D at 0x7ff2d1fd7b50>]"
      ]
     },
     "execution_count": 10,
     "metadata": {},
     "output_type": "execute_result"
    },
    {
     "data": {
      "image/png": "[encoded data removed]",
      "text/plain": [
       "<Figure size 432x288 with 1 Axes>"
      ]
     },
     "metadata": {
      "needs_background": "light"
     },
     "output_type": "display_data"
    }
   ],
   "source": [
    "plt.scatter(ref.obs['total_counts'].values - ref.obs['total_counts_mt'].values,ref.X.sum(1).tolist())\n",
    "plt.plot([0, 1e5], [0, 1e5],color='red')\n",
    "# n_counts seems to hold sums of log-normalazed data"
   ]
  },
  {
   "cell_type": "code",
   "execution_count": 11,
   "id": "solved-bumper",
   "metadata": {},
   "outputs": [
    {
     "data": {
      "text/plain": [
       "(516891, 29764)"
      ]
     },
     "execution_count": 11,
     "metadata": {},
     "output_type": "execute_result"
    }
   ],
   "source": [
    "ref.shape"
   ]
  },
  {
   "cell_type": "markdown",
   "id": "atmospheric-advancement",
   "metadata": {},
   "source": [
    "## Check obs"
   ]
  },
  {
   "cell_type": "code",
   "execution_count": 24,
   "id": "disturbed-union",
   "metadata": {},
   "outputs": [
    {
     "data": {
      "text/plain": [
       "['donor',\n",
       " 'Diagnosis',\n",
       " 'age',\n",
       " 'batch',\n",
       " 'location',\n",
       " 'sorting',\n",
       " 'gender',\n",
       " 'Region',\n",
       " 'kit',\n",
       " 'id',\n",
       " 'n_genes',\n",
       " 'n_genes_by_counts',\n",
       " 'total_counts',\n",
       " 'total_counts_mt',\n",
       " 'pct_counts_mt',\n",
       " 'doublet_scores',\n",
       " 'predicted_doublets',\n",
       " 'gut_celltype_broad',\n",
       " 'Age_group',\n",
       " 'gut_celltype_fine',\n",
       " 'ann_visium_ref',\n",
       " 'organ',\n",
       " 'dissociation',\n",
       " 'scrublet_score',\n",
       " 'doublet_pval',\n",
       " 'doublet_bh_pval',\n",
       " 'percent_mito',\n",
       " 'percent_ribo',\n",
       " 'sample',\n",
       " 'published_annotation',\n",
       " 'HCA',\n",
       " 'published_annotation_skin',\n",
       " 'ann_organ_kidney',\n",
       " 'ann_organ_liver',\n",
       " 'ann_organ_skin',\n",
       " 'ann_organ_skin_',\n",
       " 'leiden_scVI_mural',\n",
       " 'stress_genes_count',\n",
       " 'ann_organ_lung',\n",
       " 'ann_organ_heart',\n",
       " 'ann_organ_muscle',\n",
       " 'ann_organ_uterus',\n",
       " 'ann_organ_female',\n",
       " 'published_annotation_heart',\n",
       " 'stress_genes_expression',\n",
       " 'ann_vas_organ',\n",
       " 'publication',\n",
       " 'ann_vas_broad',\n",
       " 'n_counts',\n",
       " 'ann_organ_gut',\n",
       " 'ann_organ_imm',\n",
       " 'ann_organ_oeso',\n",
       " 'ann_vas_1',\n",
       " 'ann_vas_2',\n",
       " 'ann_vas_3',\n",
       " 'cell_or_nuclei',\n",
       " 'test',\n",
       " 'type_organ']"
      ]
     },
     "execution_count": 24,
     "metadata": {},
     "output_type": "execute_result"
    }
   ],
   "source": [
    "ref.obs_keys()"
   ]
  },
  {
   "cell_type": "code",
   "execution_count": 25,
   "id": "general-moore",
   "metadata": {},
   "outputs": [
    {
     "data": {
      "text/html": [
       "<div>\n",
       "<style scoped>\n",
       "    .dataframe tbody tr th:only-of-type {\n",
       "        vertical-align: middle;\n",
       "    }\n",
       "\n",
       "    .dataframe tbody tr th {\n",
       "        vertical-align: top;\n",
       "    }\n",
       "\n",
       "    .dataframe thead th {\n",
       "        text-align: right;\n",
       "    }\n",
       "</style>\n",
       "<table border=\"1\" class=\"dataframe\">\n",
       "  <thead>\n",
       "    <tr style=\"text-align: right;\">\n",
       "      <th></th>\n",
       "      <th>donor</th>\n",
       "      <th>Diagnosis</th>\n",
       "      <th>age</th>\n",
       "      <th>batch</th>\n",
       "      <th>location</th>\n",
       "      <th>sorting</th>\n",
       "      <th>gender</th>\n",
       "      <th>Region</th>\n",
       "      <th>kit</th>\n",
       "      <th>id</th>\n",
       "      <th>...</th>\n",
       "      <th>n_counts</th>\n",
       "      <th>ann_organ_gut</th>\n",
       "      <th>ann_organ_imm</th>\n",
       "      <th>ann_organ_oeso</th>\n",
       "      <th>ann_vas_1</th>\n",
       "      <th>ann_vas_2</th>\n",
       "      <th>ann_vas_3</th>\n",
       "      <th>cell_or_nuclei</th>\n",
       "      <th>test</th>\n",
       "      <th>type_organ</th>\n",
       "    </tr>\n",
       "  </thead>\n",
       "  <tbody>\n",
       "    <tr>\n",
       "      <th>AAACGGGCAGTCAGAG-1-Human_colon_16S8000511-0</th>\n",
       "      <td>A32 (411C)</td>\n",
       "      <td>Healthy adult</td>\n",
       "      <td>25-30</td>\n",
       "      <td>0</td>\n",
       "      <td>SCL</td>\n",
       "      <td>SC-45N</td>\n",
       "      <td>M</td>\n",
       "      <td>LargeInt</td>\n",
       "      <td>10x5prime</td>\n",
       "      <td>Human_colon_16S8000511</td>\n",
       "      <td>...</td>\n",
       "      <td>NaN</td>\n",
       "      <td>NaN</td>\n",
       "      <td>NaN</td>\n",
       "      <td>NaN</td>\n",
       "      <td>NaN</td>\n",
       "      <td>NaN</td>\n",
       "      <td>NaN</td>\n",
       "      <td>NaN</td>\n",
       "      <td>NaN</td>\n",
       "      <td>NaN</td>\n",
       "    </tr>\n",
       "    <tr>\n",
       "      <th>AAAGCAATCCGTTGTC-1-Human_colon_16S8000511-0</th>\n",
       "      <td>A32 (411C)</td>\n",
       "      <td>Healthy adult</td>\n",
       "      <td>25-30</td>\n",
       "      <td>0</td>\n",
       "      <td>SCL</td>\n",
       "      <td>SC-45N</td>\n",
       "      <td>M</td>\n",
       "      <td>LargeInt</td>\n",
       "      <td>10x5prime</td>\n",
       "      <td>Human_colon_16S8000511</td>\n",
       "      <td>...</td>\n",
       "      <td>NaN</td>\n",
       "      <td>NaN</td>\n",
       "      <td>NaN</td>\n",
       "      <td>NaN</td>\n",
       "      <td>NaN</td>\n",
       "      <td>NaN</td>\n",
       "      <td>NaN</td>\n",
       "      <td>NaN</td>\n",
       "      <td>NaN</td>\n",
       "      <td>NaN</td>\n",
       "    </tr>\n",
       "    <tr>\n",
       "      <th>AAAGTAGGTAGCAAAT-1-Human_colon_16S8000511-0</th>\n",
       "      <td>A32 (411C)</td>\n",
       "      <td>Healthy adult</td>\n",
       "      <td>25-30</td>\n",
       "      <td>0</td>\n",
       "      <td>SCL</td>\n",
       "      <td>SC-45N</td>\n",
       "      <td>M</td>\n",
       "      <td>LargeInt</td>\n",
       "      <td>10x5prime</td>\n",
       "      <td>Human_colon_16S8000511</td>\n",
       "      <td>...</td>\n",
       "      <td>NaN</td>\n",
       "      <td>NaN</td>\n",
       "      <td>NaN</td>\n",
       "      <td>NaN</td>\n",
       "      <td>NaN</td>\n",
       "      <td>NaN</td>\n",
       "      <td>NaN</td>\n",
       "      <td>NaN</td>\n",
       "      <td>NaN</td>\n",
       "      <td>NaN</td>\n",
       "    </tr>\n",
       "    <tr>\n",
       "      <th>AAATGCCTCGACAGCC-1-Human_colon_16S8000511-0</th>\n",
       "      <td>A32 (411C)</td>\n",
       "      <td>Healthy adult</td>\n",
       "      <td>25-30</td>\n",
       "      <td>0</td>\n",
       "      <td>SCL</td>\n",
       "      <td>SC-45N</td>\n",
       "      <td>M</td>\n",
       "      <td>LargeInt</td>\n",
       "      <td>10x5prime</td>\n",
       "      <td>Human_colon_16S8000511</td>\n",
       "      <td>...</td>\n",
       "      <td>NaN</td>\n",
       "      <td>NaN</td>\n",
       "      <td>NaN</td>\n",
       "      <td>NaN</td>\n",
       "      <td>NaN</td>\n",
       "      <td>NaN</td>\n",
       "      <td>NaN</td>\n",
       "      <td>NaN</td>\n",
       "      <td>NaN</td>\n",
       "      <td>NaN</td>\n",
       "    </tr>\n",
       "    <tr>\n",
       "      <th>AACACGTAGAGCCCAA-1-Human_colon_16S8000511-0</th>\n",
       "      <td>A32 (411C)</td>\n",
       "      <td>Healthy adult</td>\n",
       "      <td>25-30</td>\n",
       "      <td>0</td>\n",
       "      <td>SCL</td>\n",
       "      <td>SC-45N</td>\n",
       "      <td>M</td>\n",
       "      <td>LargeInt</td>\n",
       "      <td>10x5prime</td>\n",
       "      <td>Human_colon_16S8000511</td>\n",
       "      <td>...</td>\n",
       "      <td>NaN</td>\n",
       "      <td>NaN</td>\n",
       "      <td>NaN</td>\n",
       "      <td>NaN</td>\n",
       "      <td>NaN</td>\n",
       "      <td>NaN</td>\n",
       "      <td>NaN</td>\n",
       "      <td>NaN</td>\n",
       "      <td>NaN</td>\n",
       "      <td>NaN</td>\n",
       "    </tr>\n",
       "    <tr>\n",
       "      <th>...</th>\n",
       "      <td>...</td>\n",
       "      <td>...</td>\n",
       "      <td>...</td>\n",
       "      <td>...</td>\n",
       "      <td>...</td>\n",
       "      <td>...</td>\n",
       "      <td>...</td>\n",
       "      <td>...</td>\n",
       "      <td>...</td>\n",
       "      <td>...</td>\n",
       "      <td>...</td>\n",
       "      <td>...</td>\n",
       "      <td>...</td>\n",
       "      <td>...</td>\n",
       "      <td>...</td>\n",
       "      <td>...</td>\n",
       "      <td>...</td>\n",
       "      <td>...</td>\n",
       "      <td>...</td>\n",
       "      <td>...</td>\n",
       "      <td>...</td>\n",
       "    </tr>\n",
       "    <tr>\n",
       "      <th>CTGAAGTTCTACTCAT-FCA7511884-0-11-1</th>\n",
       "      <td>F40</td>\n",
       "      <td>NaN</td>\n",
       "      <td>7</td>\n",
       "      <td>1</td>\n",
       "      <td>placenta</td>\n",
       "      <td>SC-ALL</td>\n",
       "      <td>female</td>\n",
       "      <td>NaN</td>\n",
       "      <td>10x3prime_v2</td>\n",
       "      <td>FCA7511884</td>\n",
       "      <td>...</td>\n",
       "      <td>2944.019043</td>\n",
       "      <td>NaN</td>\n",
       "      <td>NaN</td>\n",
       "      <td>NaN</td>\n",
       "      <td>lymphatic_ec</td>\n",
       "      <td>13_lymphatic_ec</td>\n",
       "      <td>13</td>\n",
       "      <td>cells</td>\n",
       "      <td>12</td>\n",
       "      <td>13_lymphatic_ec_placenta</td>\n",
       "    </tr>\n",
       "    <tr>\n",
       "      <th>ACTGAGTTCGGAGGTA-FCA7511884-0-11-1</th>\n",
       "      <td>F40</td>\n",
       "      <td>NaN</td>\n",
       "      <td>7</td>\n",
       "      <td>1</td>\n",
       "      <td>placenta</td>\n",
       "      <td>SC-ALL</td>\n",
       "      <td>female</td>\n",
       "      <td>NaN</td>\n",
       "      <td>10x3prime_v2</td>\n",
       "      <td>FCA7511884</td>\n",
       "      <td>...</td>\n",
       "      <td>2653.596680</td>\n",
       "      <td>NaN</td>\n",
       "      <td>NaN</td>\n",
       "      <td>NaN</td>\n",
       "      <td>lymphatic_ec</td>\n",
       "      <td>13_lymphatic_ec</td>\n",
       "      <td>13</td>\n",
       "      <td>cells</td>\n",
       "      <td>12</td>\n",
       "      <td>13_lymphatic_ec_placenta</td>\n",
       "    </tr>\n",
       "    <tr>\n",
       "      <th>CATGACACAGTATCTG-FCA7511884-0-11-1</th>\n",
       "      <td>F40</td>\n",
       "      <td>NaN</td>\n",
       "      <td>7</td>\n",
       "      <td>1</td>\n",
       "      <td>placenta</td>\n",
       "      <td>SC-ALL</td>\n",
       "      <td>female</td>\n",
       "      <td>NaN</td>\n",
       "      <td>10x3prime_v2</td>\n",
       "      <td>FCA7511884</td>\n",
       "      <td>...</td>\n",
       "      <td>2955.036865</td>\n",
       "      <td>NaN</td>\n",
       "      <td>NaN</td>\n",
       "      <td>NaN</td>\n",
       "      <td>lymphatic_ec</td>\n",
       "      <td>13_lymphatic_ec</td>\n",
       "      <td>13</td>\n",
       "      <td>cells</td>\n",
       "      <td>12</td>\n",
       "      <td>13_lymphatic_ec_placenta</td>\n",
       "    </tr>\n",
       "    <tr>\n",
       "      <th>GGAATAAGTCGCATCG-FCA7511884-0-11-1</th>\n",
       "      <td>F40</td>\n",
       "      <td>NaN</td>\n",
       "      <td>7</td>\n",
       "      <td>1</td>\n",
       "      <td>placenta</td>\n",
       "      <td>SC-ALL</td>\n",
       "      <td>female</td>\n",
       "      <td>NaN</td>\n",
       "      <td>10x3prime_v2</td>\n",
       "      <td>FCA7511884</td>\n",
       "      <td>...</td>\n",
       "      <td>2955.825439</td>\n",
       "      <td>NaN</td>\n",
       "      <td>NaN</td>\n",
       "      <td>NaN</td>\n",
       "      <td>lymphatic_ec</td>\n",
       "      <td>13_lymphatic_ec</td>\n",
       "      <td>13</td>\n",
       "      <td>cells</td>\n",
       "      <td>12</td>\n",
       "      <td>13_lymphatic_ec_placenta</td>\n",
       "    </tr>\n",
       "    <tr>\n",
       "      <th>CATGACAGTCTGCAAT-FCA7511884-0-11-1</th>\n",
       "      <td>F40</td>\n",
       "      <td>NaN</td>\n",
       "      <td>7</td>\n",
       "      <td>1</td>\n",
       "      <td>placenta</td>\n",
       "      <td>SC-ALL</td>\n",
       "      <td>female</td>\n",
       "      <td>NaN</td>\n",
       "      <td>10x3prime_v2</td>\n",
       "      <td>FCA7511884</td>\n",
       "      <td>...</td>\n",
       "      <td>1863.371338</td>\n",
       "      <td>NaN</td>\n",
       "      <td>NaN</td>\n",
       "      <td>NaN</td>\n",
       "      <td>lymphatic_ec</td>\n",
       "      <td>13_lymphatic_ec</td>\n",
       "      <td>13</td>\n",
       "      <td>cells</td>\n",
       "      <td>12</td>\n",
       "      <td>13_lymphatic_ec_placenta</td>\n",
       "    </tr>\n",
       "  </tbody>\n",
       "</table>\n",
       "<p>225206 rows × 58 columns</p>\n",
       "</div>"
      ],
      "text/plain": [
       "                                                  donor      Diagnosis    age  \\\n",
       "AAACGGGCAGTCAGAG-1-Human_colon_16S8000511-0  A32 (411C)  Healthy adult  25-30   \n",
       "AAAGCAATCCGTTGTC-1-Human_colon_16S8000511-0  A32 (411C)  Healthy adult  25-30   \n",
       "AAAGTAGGTAGCAAAT-1-Human_colon_16S8000511-0  A32 (411C)  Healthy adult  25-30   \n",
       "AAATGCCTCGACAGCC-1-Human_colon_16S8000511-0  A32 (411C)  Healthy adult  25-30   \n",
       "AACACGTAGAGCCCAA-1-Human_colon_16S8000511-0  A32 (411C)  Healthy adult  25-30   \n",
       "...                                                 ...            ...    ...   \n",
       "CTGAAGTTCTACTCAT-FCA7511884-0-11-1                  F40            NaN      7   \n",
       "ACTGAGTTCGGAGGTA-FCA7511884-0-11-1                  F40            NaN      7   \n",
       "CATGACACAGTATCTG-FCA7511884-0-11-1                  F40            NaN      7   \n",
       "GGAATAAGTCGCATCG-FCA7511884-0-11-1                  F40            NaN      7   \n",
       "CATGACAGTCTGCAAT-FCA7511884-0-11-1                  F40            NaN      7   \n",
       "\n",
       "                                            batch  location sorting  gender  \\\n",
       "AAACGGGCAGTCAGAG-1-Human_colon_16S8000511-0     0       SCL  SC-45N       M   \n",
       "AAAGCAATCCGTTGTC-1-Human_colon_16S8000511-0     0       SCL  SC-45N       M   \n",
       "AAAGTAGGTAGCAAAT-1-Human_colon_16S8000511-0     0       SCL  SC-45N       M   \n",
       "AAATGCCTCGACAGCC-1-Human_colon_16S8000511-0     0       SCL  SC-45N       M   \n",
       "AACACGTAGAGCCCAA-1-Human_colon_16S8000511-0     0       SCL  SC-45N       M   \n",
       "...                                           ...       ...     ...     ...   \n",
       "CTGAAGTTCTACTCAT-FCA7511884-0-11-1              1  placenta  SC-ALL  female   \n",
       "ACTGAGTTCGGAGGTA-FCA7511884-0-11-1              1  placenta  SC-ALL  female   \n",
       "CATGACACAGTATCTG-FCA7511884-0-11-1              1  placenta  SC-ALL  female   \n",
       "GGAATAAGTCGCATCG-FCA7511884-0-11-1              1  placenta  SC-ALL  female   \n",
       "CATGACAGTCTGCAAT-FCA7511884-0-11-1              1  placenta  SC-ALL  female   \n",
       "\n",
       "                                               Region           kit  \\\n",
       "AAACGGGCAGTCAGAG-1-Human_colon_16S8000511-0  LargeInt     10x5prime   \n",
       "AAAGCAATCCGTTGTC-1-Human_colon_16S8000511-0  LargeInt     10x5prime   \n",
       "AAAGTAGGTAGCAAAT-1-Human_colon_16S8000511-0  LargeInt     10x5prime   \n",
       "AAATGCCTCGACAGCC-1-Human_colon_16S8000511-0  LargeInt     10x5prime   \n",
       "AACACGTAGAGCCCAA-1-Human_colon_16S8000511-0  LargeInt     10x5prime   \n",
       "...                                               ...           ...   \n",
       "CTGAAGTTCTACTCAT-FCA7511884-0-11-1                NaN  10x3prime_v2   \n",
       "ACTGAGTTCGGAGGTA-FCA7511884-0-11-1                NaN  10x3prime_v2   \n",
       "CATGACACAGTATCTG-FCA7511884-0-11-1                NaN  10x3prime_v2   \n",
       "GGAATAAGTCGCATCG-FCA7511884-0-11-1                NaN  10x3prime_v2   \n",
       "CATGACAGTCTGCAAT-FCA7511884-0-11-1                NaN  10x3prime_v2   \n",
       "\n",
       "                                                                 id  ...  \\\n",
       "AAACGGGCAGTCAGAG-1-Human_colon_16S8000511-0  Human_colon_16S8000511  ...   \n",
       "AAAGCAATCCGTTGTC-1-Human_colon_16S8000511-0  Human_colon_16S8000511  ...   \n",
       "AAAGTAGGTAGCAAAT-1-Human_colon_16S8000511-0  Human_colon_16S8000511  ...   \n",
       "AAATGCCTCGACAGCC-1-Human_colon_16S8000511-0  Human_colon_16S8000511  ...   \n",
       "AACACGTAGAGCCCAA-1-Human_colon_16S8000511-0  Human_colon_16S8000511  ...   \n",
       "...                                                             ...  ...   \n",
       "CTGAAGTTCTACTCAT-FCA7511884-0-11-1                       FCA7511884  ...   \n",
       "ACTGAGTTCGGAGGTA-FCA7511884-0-11-1                       FCA7511884  ...   \n",
       "CATGACACAGTATCTG-FCA7511884-0-11-1                       FCA7511884  ...   \n",
       "GGAATAAGTCGCATCG-FCA7511884-0-11-1                       FCA7511884  ...   \n",
       "CATGACAGTCTGCAAT-FCA7511884-0-11-1                       FCA7511884  ...   \n",
       "\n",
       "                                                n_counts  ann_organ_gut  \\\n",
       "AAACGGGCAGTCAGAG-1-Human_colon_16S8000511-0          NaN            NaN   \n",
       "AAAGCAATCCGTTGTC-1-Human_colon_16S8000511-0          NaN            NaN   \n",
       "AAAGTAGGTAGCAAAT-1-Human_colon_16S8000511-0          NaN            NaN   \n",
       "AAATGCCTCGACAGCC-1-Human_colon_16S8000511-0          NaN            NaN   \n",
       "AACACGTAGAGCCCAA-1-Human_colon_16S8000511-0          NaN            NaN   \n",
       "...                                                  ...            ...   \n",
       "CTGAAGTTCTACTCAT-FCA7511884-0-11-1           2944.019043            NaN   \n",
       "ACTGAGTTCGGAGGTA-FCA7511884-0-11-1           2653.596680            NaN   \n",
       "CATGACACAGTATCTG-FCA7511884-0-11-1           2955.036865            NaN   \n",
       "GGAATAAGTCGCATCG-FCA7511884-0-11-1           2955.825439            NaN   \n",
       "CATGACAGTCTGCAAT-FCA7511884-0-11-1           1863.371338            NaN   \n",
       "\n",
       "                                             ann_organ_imm  ann_organ_oeso  \\\n",
       "AAACGGGCAGTCAGAG-1-Human_colon_16S8000511-0            NaN             NaN   \n",
       "AAAGCAATCCGTTGTC-1-Human_colon_16S8000511-0            NaN             NaN   \n",
       "AAAGTAGGTAGCAAAT-1-Human_colon_16S8000511-0            NaN             NaN   \n",
       "AAATGCCTCGACAGCC-1-Human_colon_16S8000511-0            NaN             NaN   \n",
       "AACACGTAGAGCCCAA-1-Human_colon_16S8000511-0            NaN             NaN   \n",
       "...                                                    ...             ...   \n",
       "CTGAAGTTCTACTCAT-FCA7511884-0-11-1                     NaN             NaN   \n",
       "ACTGAGTTCGGAGGTA-FCA7511884-0-11-1                     NaN             NaN   \n",
       "CATGACACAGTATCTG-FCA7511884-0-11-1                     NaN             NaN   \n",
       "GGAATAAGTCGCATCG-FCA7511884-0-11-1                     NaN             NaN   \n",
       "CATGACAGTCTGCAAT-FCA7511884-0-11-1                     NaN             NaN   \n",
       "\n",
       "                                                ann_vas_1        ann_vas_2  \\\n",
       "AAACGGGCAGTCAGAG-1-Human_colon_16S8000511-0           NaN              NaN   \n",
       "AAAGCAATCCGTTGTC-1-Human_colon_16S8000511-0           NaN              NaN   \n",
       "AAAGTAGGTAGCAAAT-1-Human_colon_16S8000511-0           NaN              NaN   \n",
       "AAATGCCTCGACAGCC-1-Human_colon_16S8000511-0           NaN              NaN   \n",
       "AACACGTAGAGCCCAA-1-Human_colon_16S8000511-0           NaN              NaN   \n",
       "...                                                   ...              ...   \n",
       "CTGAAGTTCTACTCAT-FCA7511884-0-11-1           lymphatic_ec  13_lymphatic_ec   \n",
       "ACTGAGTTCGGAGGTA-FCA7511884-0-11-1           lymphatic_ec  13_lymphatic_ec   \n",
       "CATGACACAGTATCTG-FCA7511884-0-11-1           lymphatic_ec  13_lymphatic_ec   \n",
       "GGAATAAGTCGCATCG-FCA7511884-0-11-1           lymphatic_ec  13_lymphatic_ec   \n",
       "CATGACAGTCTGCAAT-FCA7511884-0-11-1           lymphatic_ec  13_lymphatic_ec   \n",
       "\n",
       "                                            ann_vas_3 cell_or_nuclei test  \\\n",
       "AAACGGGCAGTCAGAG-1-Human_colon_16S8000511-0       NaN            NaN  NaN   \n",
       "AAAGCAATCCGTTGTC-1-Human_colon_16S8000511-0       NaN            NaN  NaN   \n",
       "AAAGTAGGTAGCAAAT-1-Human_colon_16S8000511-0       NaN            NaN  NaN   \n",
       "AAATGCCTCGACAGCC-1-Human_colon_16S8000511-0       NaN            NaN  NaN   \n",
       "AACACGTAGAGCCCAA-1-Human_colon_16S8000511-0       NaN            NaN  NaN   \n",
       "...                                               ...            ...  ...   \n",
       "CTGAAGTTCTACTCAT-FCA7511884-0-11-1                 13          cells   12   \n",
       "ACTGAGTTCGGAGGTA-FCA7511884-0-11-1                 13          cells   12   \n",
       "CATGACACAGTATCTG-FCA7511884-0-11-1                 13          cells   12   \n",
       "GGAATAAGTCGCATCG-FCA7511884-0-11-1                 13          cells   12   \n",
       "CATGACAGTCTGCAAT-FCA7511884-0-11-1                 13          cells   12   \n",
       "\n",
       "                                                           type_organ  \n",
       "AAACGGGCAGTCAGAG-1-Human_colon_16S8000511-0                       NaN  \n",
       "AAAGCAATCCGTTGTC-1-Human_colon_16S8000511-0                       NaN  \n",
       "AAAGTAGGTAGCAAAT-1-Human_colon_16S8000511-0                       NaN  \n",
       "AAATGCCTCGACAGCC-1-Human_colon_16S8000511-0                       NaN  \n",
       "AACACGTAGAGCCCAA-1-Human_colon_16S8000511-0                       NaN  \n",
       "...                                                               ...  \n",
       "CTGAAGTTCTACTCAT-FCA7511884-0-11-1           13_lymphatic_ec_placenta  \n",
       "ACTGAGTTCGGAGGTA-FCA7511884-0-11-1           13_lymphatic_ec_placenta  \n",
       "CATGACACAGTATCTG-FCA7511884-0-11-1           13_lymphatic_ec_placenta  \n",
       "GGAATAAGTCGCATCG-FCA7511884-0-11-1           13_lymphatic_ec_placenta  \n",
       "CATGACAGTCTGCAAT-FCA7511884-0-11-1           13_lymphatic_ec_placenta  \n",
       "\n",
       "[225206 rows x 58 columns]"
      ]
     },
     "execution_count": 25,
     "metadata": {},
     "output_type": "execute_result"
    }
   ],
   "source": [
    "ref.obs"
   ]
  },
  {
   "cell_type": "code",
   "execution_count": 26,
   "id": "finished-field",
   "metadata": {},
   "outputs": [
    {
     "data": {
      "text/plain": [
       "WTDAtest7844018           9485\n",
       "WTDAtest7844016           8596\n",
       "Human_colon_16S8000513    6844\n",
       "Human_colon_16S8001903    6800\n",
       "WTDAtest7844015           5785\n",
       "                          ... \n",
       "HCATisStab7413619            4\n",
       "Human_colon_16S8002573       3\n",
       "FCA7196220                   2\n",
       "HCATisStab7619066            1\n",
       "WSSS_A_LNG8620068            1\n",
       "Name: id, Length: 277, dtype: int64"
      ]
     },
     "execution_count": 26,
     "metadata": {},
     "output_type": "execute_result"
    }
   ],
   "source": [
    "ref.obs['id'].value_counts()"
   ]
  },
  {
   "cell_type": "code",
   "execution_count": 27,
   "id": "plain-compression",
   "metadata": {},
   "outputs": [
    {
     "data": {
      "text/plain": [
       "A33 (414C)           37472\n",
       "A34 (417C)           27502\n",
       "A32 (411C)           21940\n",
       "A39 (440C)           14430\n",
       "A34                  12441\n",
       "                     ...  \n",
       "kpmp-Trans-SV-004       27\n",
       "kpmp-Trans-SV-007       15\n",
       "kpmp-HK_PH              13\n",
       "kpmp-18-162             12\n",
       "F37                      7\n",
       "Name: donor, Length: 74, dtype: int64"
      ]
     },
     "execution_count": 27,
     "metadata": {},
     "output_type": "execute_result"
    }
   ],
   "source": [
    "ref.obs['donor'].value_counts()"
   ]
  },
  {
   "cell_type": "code",
   "execution_count": 28,
   "id": "confident-romance",
   "metadata": {},
   "outputs": [
    {
     "data": {
      "text/plain": [
       "cells    100839\n",
       "Name: cell_or_nuclei, dtype: int64"
      ]
     },
     "execution_count": 28,
     "metadata": {},
     "output_type": "execute_result"
    }
   ],
   "source": [
    "ref.obs['cell_or_nuclei'].value_counts()"
   ]
  },
  {
   "cell_type": "code",
   "execution_count": 29,
   "id": "dynamic-cloud",
   "metadata": {},
   "outputs": [
    {
     "data": {
      "text/plain": [
       "TA                    43497\n",
       "4_capillary_ec        18427\n",
       "14_arterial_smc       15552\n",
       "IgA plasma cell       14549\n",
       "20_pericytes          12957\n",
       "                      ...  \n",
       "K cells (GIP+)            3\n",
       "LEC2 (MADCAM1+)           3\n",
       "CLC+ Mast cell            3\n",
       "Fetal arterial EC         2\n",
       "Stromal 2 (CH25H+)        2\n",
       "Name: ann_visium_ref, Length: 94, dtype: int64"
      ]
     },
     "execution_count": 29,
     "metadata": {},
     "output_type": "execute_result"
    }
   ],
   "source": [
    "cc = ref.obs['ann_visium_ref'].value_counts()\n",
    "cc"
   ]
  },
  {
   "cell_type": "code",
   "execution_count": 30,
   "id": "noble-semiconductor",
   "metadata": {},
   "outputs": [],
   "source": [
    "# remove celltypes with small number of cells (if necessary)\n",
    "ctf = ref.obs['ann_visium_ref'].isin(cc.index[cc>=20].tolist())"
   ]
  },
  {
   "cell_type": "code",
   "execution_count": 31,
   "id": "substantial-tanzania",
   "metadata": {},
   "outputs": [
    {
     "data": {
      "text/plain": [
       "Counter({True: 225117, False: 89})"
      ]
     },
     "execution_count": 31,
     "metadata": {},
     "output_type": "execute_result"
    }
   ],
   "source": [
    "Counter(ctf)"
   ]
  },
  {
   "cell_type": "code",
   "execution_count": null,
   "id": "inner-adrian",
   "metadata": {},
   "outputs": [],
   "source": [
    "#sc.write(adata=ref,filename=lustre_path+'/ref.h5ad')"
   ]
  },
  {
   "cell_type": "code",
   "execution_count": 32,
   "id": "fewer-explanation",
   "metadata": {},
   "outputs": [
    {
     "name": "stderr",
     "output_type": "stream",
     "text": [
      "/opt/conda/lib/python3.8/site-packages/pandas/core/arrays/categorical.py:2487: FutureWarning: The `inplace` parameter in pandas.Categorical.remove_unused_categories is deprecated and will be removed in a future version.\n",
      "  res = method(*args, **kwargs)\n"
     ]
    },
    {
     "data": {
      "text/plain": [
       "(225117, 30507)"
      ]
     },
     "execution_count": 32,
     "metadata": {},
     "output_type": "execute_result"
    }
   ],
   "source": [
    "ref = ref[ctf,:]\n",
    "ref.shape"
   ]
  },
  {
   "cell_type": "code",
   "execution_count": 33,
   "id": "subtle-chocolate",
   "metadata": {},
   "outputs": [
    {
     "name": "stderr",
     "output_type": "stream",
     "text": [
      "/opt/conda/lib/python3.8/site-packages/anndata/_core/anndata.py:1207: ImplicitModificationWarning: Initializing view as actual.\n",
      "  warnings.warn(\n",
      "Trying to set attribute `.obs` of view, copying.\n",
      "... storing 'predicted_doublets' as categorical\n",
      "Trying to set attribute `.obs` of view, copying.\n",
      "... storing 'ann_organ_liver' as categorical\n"
     ]
    }
   ],
   "source": [
    "sc.write(adata=ref,filename=lustre_path+'/ref.filtered.h5ad')"
   ]
  },
  {
   "cell_type": "markdown",
   "id": "daily-strap",
   "metadata": {},
   "source": [
    "# Visium"
   ]
  },
  {
   "cell_type": "code",
   "execution_count": 9,
   "id": "controlled-clerk",
   "metadata": {},
   "outputs": [
    {
     "data": {
      "text/plain": [
       "['A1', 'A2']"
      ]
     },
     "execution_count": 9,
     "metadata": {},
     "output_type": "execute_result"
    }
   ],
   "source": [
    "path2spacerangers = '/nfs/team205/vk7/sanger_projects/large_data/gut_kj_re/oxford_visium'\n",
    "sids = ['A1','A2']\n",
    "sids"
   ]
  },
  {
   "cell_type": "code",
   "execution_count": 10,
   "id": "banned-jaguar",
   "metadata": {},
   "outputs": [
    {
     "name": "stderr",
     "output_type": "stream",
     "text": [
      "Variable names are not unique. To make them unique, call `.var_names_make_unique`.\n",
      "Variable names are not unique. To make them unique, call `.var_names_make_unique`.\n",
      "Variable names are not unique. To make them unique, call `.var_names_make_unique`.\n",
      "Variable names are not unique. To make them unique, call `.var_names_make_unique`.\n"
     ]
    }
   ],
   "source": [
    "#vs = [sc.read_h5ad(path2spacerangers+'/'+f+'.h5ad') for f in sids]\n",
    "#vs = [sc.read_visium(path2spacerangers+'/'+f+\"/outs/\") for f in sids]\n",
    "vs = [sc.read_visium(path2spacerangers+'/'+f,count_file='raw_feature_bc_matrix.h5') for f in sids]"
   ]
  },
  {
   "cell_type": "code",
   "execution_count": 11,
   "id": "qualified-block",
   "metadata": {},
   "outputs": [
    {
     "name": "stderr",
     "output_type": "stream",
     "text": [
      "Variable names are not unique. To make them unique, call `.var_names_make_unique`.\n",
      "Variable names are not unique. To make them unique, call `.var_names_make_unique`.\n",
      "Variable names are not unique. To make them unique, call `.var_names_make_unique`.\n",
      "Variable names are not unique. To make them unique, call `.var_names_make_unique`.\n"
     ]
    }
   ],
   "source": [
    "sids2=['WSSS_A_GUTsp9518706','WSSS_A_GUTsp9518708']\n",
    "vs2 = [sc.read_visium(lustre_path+\"/rawdata/\"+f,count_file='raw_feature_bc_matrix.h5') for f in sids2]"
   ]
  },
  {
   "cell_type": "code",
   "execution_count": 12,
   "id": "congressional-phone",
   "metadata": {},
   "outputs": [],
   "source": [
    "vs = vs + vs2\n",
    "sids=sids+sids2"
   ]
  },
  {
   "cell_type": "code",
   "execution_count": 13,
   "id": "manufactured-trade",
   "metadata": {},
   "outputs": [
    {
     "data": {
      "text/plain": [
       "[4992, 4992, 4992, 4992]"
      ]
     },
     "execution_count": 13,
     "metadata": {},
     "output_type": "execute_result"
    }
   ],
   "source": [
    "for i in range(len(vs)):\n",
    "    vs[i].obs['barcode'] = vs[i].obs_names\n",
    "    vs[i].obs_names = sids[i] + '_'+ vs[i].obs_names\n",
    "    vs[i].obs['library_id']=sids[i]\n",
    "    vs[i].var_names_make_unique()\n",
    "    #vs[i].var['SYMBOL'] = vs[i].var_names\n",
    "    #vs[i].var.set_index('gene_ids', drop=True, inplace=True)\n",
    "    \n",
    "    # to fix library id in uns\n",
    "    old_key = list(vs[i].uns['spatial'].keys())[0]\n",
    "    vs[i].uns['spatial'][sids[i]] = vs[i].uns['spatial'][old_key]\n",
    "    del vs[i].uns['spatial'][old_key]\n",
    "\n",
    "\n",
    "[x.shape[0] for x in vs]"
   ]
  },
  {
   "cell_type": "code",
   "execution_count": 14,
   "id": "fossil-appliance",
   "metadata": {},
   "outputs": [
    {
     "data": {
      "text/plain": [
       "AnnData object with n_obs × n_vars = 19968 × 33538\n",
       "    obs: 'in_tissue', 'array_row', 'array_col', 'barcode', 'library_id', 'batch'\n",
       "    var: 'gene_ids', 'feature_types', 'genome'\n",
       "    uns: 'spatial'\n",
       "    obsm: 'spatial'"
      ]
     },
     "execution_count": 14,
     "metadata": {},
     "output_type": "execute_result"
    }
   ],
   "source": [
    "vis = vs[0].concatenate(vs[1:],uns_merge='unique')\n",
    "vis"
   ]
  },
  {
   "cell_type": "code",
   "execution_count": 15,
   "id": "composed-observer",
   "metadata": {},
   "outputs": [
    {
     "data": {
      "text/html": [
       "<div>\n",
       "<style scoped>\n",
       "    .dataframe tbody tr th:only-of-type {\n",
       "        vertical-align: middle;\n",
       "    }\n",
       "\n",
       "    .dataframe tbody tr th {\n",
       "        vertical-align: top;\n",
       "    }\n",
       "\n",
       "    .dataframe thead th {\n",
       "        text-align: right;\n",
       "    }\n",
       "</style>\n",
       "<table border=\"1\" class=\"dataframe\">\n",
       "  <thead>\n",
       "    <tr style=\"text-align: right;\">\n",
       "      <th></th>\n",
       "      <th>in_tissue</th>\n",
       "      <th>array_row</th>\n",
       "      <th>array_col</th>\n",
       "      <th>barcode</th>\n",
       "      <th>library_id</th>\n",
       "      <th>batch</th>\n",
       "    </tr>\n",
       "  </thead>\n",
       "  <tbody>\n",
       "    <tr>\n",
       "      <th>A1_AAACAACGAATAGTTC-1-0</th>\n",
       "      <td>0</td>\n",
       "      <td>0</td>\n",
       "      <td>16</td>\n",
       "      <td>AAACAACGAATAGTTC-1</td>\n",
       "      <td>A1</td>\n",
       "      <td>0</td>\n",
       "    </tr>\n",
       "    <tr>\n",
       "      <th>A1_AAACAAGTATCTCCCA-1-0</th>\n",
       "      <td>1</td>\n",
       "      <td>50</td>\n",
       "      <td>102</td>\n",
       "      <td>AAACAAGTATCTCCCA-1</td>\n",
       "      <td>A1</td>\n",
       "      <td>0</td>\n",
       "    </tr>\n",
       "    <tr>\n",
       "      <th>A1_AAACAATCTACTAGCA-1-0</th>\n",
       "      <td>0</td>\n",
       "      <td>3</td>\n",
       "      <td>43</td>\n",
       "      <td>AAACAATCTACTAGCA-1</td>\n",
       "      <td>A1</td>\n",
       "      <td>0</td>\n",
       "    </tr>\n",
       "    <tr>\n",
       "      <th>A1_AAACACCAATAACTGC-1-0</th>\n",
       "      <td>0</td>\n",
       "      <td>59</td>\n",
       "      <td>19</td>\n",
       "      <td>AAACACCAATAACTGC-1</td>\n",
       "      <td>A1</td>\n",
       "      <td>0</td>\n",
       "    </tr>\n",
       "    <tr>\n",
       "      <th>A1_AAACAGAGCGACTCCT-1-0</th>\n",
       "      <td>1</td>\n",
       "      <td>14</td>\n",
       "      <td>94</td>\n",
       "      <td>AAACAGAGCGACTCCT-1</td>\n",
       "      <td>A1</td>\n",
       "      <td>0</td>\n",
       "    </tr>\n",
       "    <tr>\n",
       "      <th>...</th>\n",
       "      <td>...</td>\n",
       "      <td>...</td>\n",
       "      <td>...</td>\n",
       "      <td>...</td>\n",
       "      <td>...</td>\n",
       "      <td>...</td>\n",
       "    </tr>\n",
       "    <tr>\n",
       "      <th>WSSS_A_GUTsp9518708_TTGTTTCACATCCAGG-1-3</th>\n",
       "      <td>0</td>\n",
       "      <td>58</td>\n",
       "      <td>42</td>\n",
       "      <td>TTGTTTCACATCCAGG-1</td>\n",
       "      <td>WSSS_A_GUTsp9518708</td>\n",
       "      <td>3</td>\n",
       "    </tr>\n",
       "    <tr>\n",
       "      <th>WSSS_A_GUTsp9518708_TTGTTTCATTAGTCTA-1-3</th>\n",
       "      <td>0</td>\n",
       "      <td>60</td>\n",
       "      <td>30</td>\n",
       "      <td>TTGTTTCATTAGTCTA-1</td>\n",
       "      <td>WSSS_A_GUTsp9518708</td>\n",
       "      <td>3</td>\n",
       "    </tr>\n",
       "    <tr>\n",
       "      <th>WSSS_A_GUTsp9518708_TTGTTTCCATACAACT-1-3</th>\n",
       "      <td>0</td>\n",
       "      <td>45</td>\n",
       "      <td>27</td>\n",
       "      <td>TTGTTTCCATACAACT-1</td>\n",
       "      <td>WSSS_A_GUTsp9518708</td>\n",
       "      <td>3</td>\n",
       "    </tr>\n",
       "    <tr>\n",
       "      <th>WSSS_A_GUTsp9518708_TTGTTTGTATTACACG-1-3</th>\n",
       "      <td>0</td>\n",
       "      <td>73</td>\n",
       "      <td>41</td>\n",
       "      <td>TTGTTTGTATTACACG-1</td>\n",
       "      <td>WSSS_A_GUTsp9518708</td>\n",
       "      <td>3</td>\n",
       "    </tr>\n",
       "    <tr>\n",
       "      <th>WSSS_A_GUTsp9518708_TTGTTTGTGTAAATTC-1-3</th>\n",
       "      <td>1</td>\n",
       "      <td>7</td>\n",
       "      <td>51</td>\n",
       "      <td>TTGTTTGTGTAAATTC-1</td>\n",
       "      <td>WSSS_A_GUTsp9518708</td>\n",
       "      <td>3</td>\n",
       "    </tr>\n",
       "  </tbody>\n",
       "</table>\n",
       "<p>19968 rows × 6 columns</p>\n",
       "</div>"
      ],
      "text/plain": [
       "                                          in_tissue  array_row  array_col  \\\n",
       "A1_AAACAACGAATAGTTC-1-0                           0          0         16   \n",
       "A1_AAACAAGTATCTCCCA-1-0                           1         50        102   \n",
       "A1_AAACAATCTACTAGCA-1-0                           0          3         43   \n",
       "A1_AAACACCAATAACTGC-1-0                           0         59         19   \n",
       "A1_AAACAGAGCGACTCCT-1-0                           1         14         94   \n",
       "...                                             ...        ...        ...   \n",
       "WSSS_A_GUTsp9518708_TTGTTTCACATCCAGG-1-3          0         58         42   \n",
       "WSSS_A_GUTsp9518708_TTGTTTCATTAGTCTA-1-3          0         60         30   \n",
       "WSSS_A_GUTsp9518708_TTGTTTCCATACAACT-1-3          0         45         27   \n",
       "WSSS_A_GUTsp9518708_TTGTTTGTATTACACG-1-3          0         73         41   \n",
       "WSSS_A_GUTsp9518708_TTGTTTGTGTAAATTC-1-3          1          7         51   \n",
       "\n",
       "                                                     barcode  \\\n",
       "A1_AAACAACGAATAGTTC-1-0                   AAACAACGAATAGTTC-1   \n",
       "A1_AAACAAGTATCTCCCA-1-0                   AAACAAGTATCTCCCA-1   \n",
       "A1_AAACAATCTACTAGCA-1-0                   AAACAATCTACTAGCA-1   \n",
       "A1_AAACACCAATAACTGC-1-0                   AAACACCAATAACTGC-1   \n",
       "A1_AAACAGAGCGACTCCT-1-0                   AAACAGAGCGACTCCT-1   \n",
       "...                                                      ...   \n",
       "WSSS_A_GUTsp9518708_TTGTTTCACATCCAGG-1-3  TTGTTTCACATCCAGG-1   \n",
       "WSSS_A_GUTsp9518708_TTGTTTCATTAGTCTA-1-3  TTGTTTCATTAGTCTA-1   \n",
       "WSSS_A_GUTsp9518708_TTGTTTCCATACAACT-1-3  TTGTTTCCATACAACT-1   \n",
       "WSSS_A_GUTsp9518708_TTGTTTGTATTACACG-1-3  TTGTTTGTATTACACG-1   \n",
       "WSSS_A_GUTsp9518708_TTGTTTGTGTAAATTC-1-3  TTGTTTGTGTAAATTC-1   \n",
       "\n",
       "                                                   library_id batch  \n",
       "A1_AAACAACGAATAGTTC-1-0                                    A1     0  \n",
       "A1_AAACAAGTATCTCCCA-1-0                                    A1     0  \n",
       "A1_AAACAATCTACTAGCA-1-0                                    A1     0  \n",
       "A1_AAACACCAATAACTGC-1-0                                    A1     0  \n",
       "A1_AAACAGAGCGACTCCT-1-0                                    A1     0  \n",
       "...                                                       ...   ...  \n",
       "WSSS_A_GUTsp9518708_TTGTTTCACATCCAGG-1-3  WSSS_A_GUTsp9518708     3  \n",
       "WSSS_A_GUTsp9518708_TTGTTTCATTAGTCTA-1-3  WSSS_A_GUTsp9518708     3  \n",
       "WSSS_A_GUTsp9518708_TTGTTTCCATACAACT-1-3  WSSS_A_GUTsp9518708     3  \n",
       "WSSS_A_GUTsp9518708_TTGTTTGTATTACACG-1-3  WSSS_A_GUTsp9518708     3  \n",
       "WSSS_A_GUTsp9518708_TTGTTTGTGTAAATTC-1-3  WSSS_A_GUTsp9518708     3  \n",
       "\n",
       "[19968 rows x 6 columns]"
      ]
     },
     "execution_count": 15,
     "metadata": {},
     "output_type": "execute_result"
    }
   ],
   "source": [
    "vis.obs"
   ]
  },
  {
   "cell_type": "code",
   "execution_count": 16,
   "id": "executive-legend",
   "metadata": {},
   "outputs": [
    {
     "data": {
      "text/html": [
       "<div>\n",
       "<style scoped>\n",
       "    .dataframe tbody tr th:only-of-type {\n",
       "        vertical-align: middle;\n",
       "    }\n",
       "\n",
       "    .dataframe tbody tr th {\n",
       "        vertical-align: top;\n",
       "    }\n",
       "\n",
       "    .dataframe thead th {\n",
       "        text-align: right;\n",
       "    }\n",
       "</style>\n",
       "<table border=\"1\" class=\"dataframe\">\n",
       "  <thead>\n",
       "    <tr style=\"text-align: right;\">\n",
       "      <th></th>\n",
       "      <th>in_tissue</th>\n",
       "      <th>array_row</th>\n",
       "      <th>array_col</th>\n",
       "      <th>barcode</th>\n",
       "      <th>library_id</th>\n",
       "    </tr>\n",
       "  </thead>\n",
       "  <tbody>\n",
       "    <tr>\n",
       "      <th>AAACAACGAATAGTTC-1_A1</th>\n",
       "      <td>0</td>\n",
       "      <td>0</td>\n",
       "      <td>16</td>\n",
       "      <td>AAACAACGAATAGTTC-1</td>\n",
       "      <td>A1</td>\n",
       "    </tr>\n",
       "    <tr>\n",
       "      <th>AAACAAGTATCTCCCA-1_A1</th>\n",
       "      <td>1</td>\n",
       "      <td>50</td>\n",
       "      <td>102</td>\n",
       "      <td>AAACAAGTATCTCCCA-1</td>\n",
       "      <td>A1</td>\n",
       "    </tr>\n",
       "    <tr>\n",
       "      <th>AAACAATCTACTAGCA-1_A1</th>\n",
       "      <td>0</td>\n",
       "      <td>3</td>\n",
       "      <td>43</td>\n",
       "      <td>AAACAATCTACTAGCA-1</td>\n",
       "      <td>A1</td>\n",
       "    </tr>\n",
       "    <tr>\n",
       "      <th>AAACACCAATAACTGC-1_A1</th>\n",
       "      <td>0</td>\n",
       "      <td>59</td>\n",
       "      <td>19</td>\n",
       "      <td>AAACACCAATAACTGC-1</td>\n",
       "      <td>A1</td>\n",
       "    </tr>\n",
       "    <tr>\n",
       "      <th>AAACAGAGCGACTCCT-1_A1</th>\n",
       "      <td>1</td>\n",
       "      <td>14</td>\n",
       "      <td>94</td>\n",
       "      <td>AAACAGAGCGACTCCT-1</td>\n",
       "      <td>A1</td>\n",
       "    </tr>\n",
       "    <tr>\n",
       "      <th>...</th>\n",
       "      <td>...</td>\n",
       "      <td>...</td>\n",
       "      <td>...</td>\n",
       "      <td>...</td>\n",
       "      <td>...</td>\n",
       "    </tr>\n",
       "    <tr>\n",
       "      <th>TTGTTTCACATCCAGG-1_WSSS_A_GUTsp9518708</th>\n",
       "      <td>0</td>\n",
       "      <td>58</td>\n",
       "      <td>42</td>\n",
       "      <td>TTGTTTCACATCCAGG-1</td>\n",
       "      <td>WSSS_A_GUTsp9518708</td>\n",
       "    </tr>\n",
       "    <tr>\n",
       "      <th>TTGTTTCATTAGTCTA-1_WSSS_A_GUTsp9518708</th>\n",
       "      <td>0</td>\n",
       "      <td>60</td>\n",
       "      <td>30</td>\n",
       "      <td>TTGTTTCATTAGTCTA-1</td>\n",
       "      <td>WSSS_A_GUTsp9518708</td>\n",
       "    </tr>\n",
       "    <tr>\n",
       "      <th>TTGTTTCCATACAACT-1_WSSS_A_GUTsp9518708</th>\n",
       "      <td>0</td>\n",
       "      <td>45</td>\n",
       "      <td>27</td>\n",
       "      <td>TTGTTTCCATACAACT-1</td>\n",
       "      <td>WSSS_A_GUTsp9518708</td>\n",
       "    </tr>\n",
       "    <tr>\n",
       "      <th>TTGTTTGTATTACACG-1_WSSS_A_GUTsp9518708</th>\n",
       "      <td>0</td>\n",
       "      <td>73</td>\n",
       "      <td>41</td>\n",
       "      <td>TTGTTTGTATTACACG-1</td>\n",
       "      <td>WSSS_A_GUTsp9518708</td>\n",
       "    </tr>\n",
       "    <tr>\n",
       "      <th>TTGTTTGTGTAAATTC-1_WSSS_A_GUTsp9518708</th>\n",
       "      <td>1</td>\n",
       "      <td>7</td>\n",
       "      <td>51</td>\n",
       "      <td>TTGTTTGTGTAAATTC-1</td>\n",
       "      <td>WSSS_A_GUTsp9518708</td>\n",
       "    </tr>\n",
       "  </tbody>\n",
       "</table>\n",
       "<p>19968 rows × 5 columns</p>\n",
       "</div>"
      ],
      "text/plain": [
       "                                        in_tissue  array_row  array_col  \\\n",
       "AAACAACGAATAGTTC-1_A1                           0          0         16   \n",
       "AAACAAGTATCTCCCA-1_A1                           1         50        102   \n",
       "AAACAATCTACTAGCA-1_A1                           0          3         43   \n",
       "AAACACCAATAACTGC-1_A1                           0         59         19   \n",
       "AAACAGAGCGACTCCT-1_A1                           1         14         94   \n",
       "...                                           ...        ...        ...   \n",
       "TTGTTTCACATCCAGG-1_WSSS_A_GUTsp9518708          0         58         42   \n",
       "TTGTTTCATTAGTCTA-1_WSSS_A_GUTsp9518708          0         60         30   \n",
       "TTGTTTCCATACAACT-1_WSSS_A_GUTsp9518708          0         45         27   \n",
       "TTGTTTGTATTACACG-1_WSSS_A_GUTsp9518708          0         73         41   \n",
       "TTGTTTGTGTAAATTC-1_WSSS_A_GUTsp9518708          1          7         51   \n",
       "\n",
       "                                                   barcode  \\\n",
       "AAACAACGAATAGTTC-1_A1                   AAACAACGAATAGTTC-1   \n",
       "AAACAAGTATCTCCCA-1_A1                   AAACAAGTATCTCCCA-1   \n",
       "AAACAATCTACTAGCA-1_A1                   AAACAATCTACTAGCA-1   \n",
       "AAACACCAATAACTGC-1_A1                   AAACACCAATAACTGC-1   \n",
       "AAACAGAGCGACTCCT-1_A1                   AAACAGAGCGACTCCT-1   \n",
       "...                                                    ...   \n",
       "TTGTTTCACATCCAGG-1_WSSS_A_GUTsp9518708  TTGTTTCACATCCAGG-1   \n",
       "TTGTTTCATTAGTCTA-1_WSSS_A_GUTsp9518708  TTGTTTCATTAGTCTA-1   \n",
       "TTGTTTCCATACAACT-1_WSSS_A_GUTsp9518708  TTGTTTCCATACAACT-1   \n",
       "TTGTTTGTATTACACG-1_WSSS_A_GUTsp9518708  TTGTTTGTATTACACG-1   \n",
       "TTGTTTGTGTAAATTC-1_WSSS_A_GUTsp9518708  TTGTTTGTGTAAATTC-1   \n",
       "\n",
       "                                                 library_id  \n",
       "AAACAACGAATAGTTC-1_A1                                    A1  \n",
       "AAACAAGTATCTCCCA-1_A1                                    A1  \n",
       "AAACAATCTACTAGCA-1_A1                                    A1  \n",
       "AAACACCAATAACTGC-1_A1                                    A1  \n",
       "AAACAGAGCGACTCCT-1_A1                                    A1  \n",
       "...                                                     ...  \n",
       "TTGTTTCACATCCAGG-1_WSSS_A_GUTsp9518708  WSSS_A_GUTsp9518708  \n",
       "TTGTTTCATTAGTCTA-1_WSSS_A_GUTsp9518708  WSSS_A_GUTsp9518708  \n",
       "TTGTTTCCATACAACT-1_WSSS_A_GUTsp9518708  WSSS_A_GUTsp9518708  \n",
       "TTGTTTGTATTACACG-1_WSSS_A_GUTsp9518708  WSSS_A_GUTsp9518708  \n",
       "TTGTTTGTGTAAATTC-1_WSSS_A_GUTsp9518708  WSSS_A_GUTsp9518708  \n",
       "\n",
       "[19968 rows x 5 columns]"
      ]
     },
     "execution_count": 16,
     "metadata": {},
     "output_type": "execute_result"
    }
   ],
   "source": [
    "vis.obs_names = vis.obs['barcode'] + '_' + vis.obs['library_id']\n",
    "vis.obs = vis.obs.drop(columns='batch',errors='ignore')\n",
    "vis.obs"
   ]
  },
  {
   "cell_type": "code",
   "execution_count": 17,
   "id": "linear-baseline",
   "metadata": {},
   "outputs": [
    {
     "data": {
      "text/html": [
       "<div>\n",
       "<style scoped>\n",
       "    .dataframe tbody tr th:only-of-type {\n",
       "        vertical-align: middle;\n",
       "    }\n",
       "\n",
       "    .dataframe tbody tr th {\n",
       "        vertical-align: top;\n",
       "    }\n",
       "\n",
       "    .dataframe thead th {\n",
       "        text-align: right;\n",
       "    }\n",
       "</style>\n",
       "<table border=\"1\" class=\"dataframe\">\n",
       "  <thead>\n",
       "    <tr style=\"text-align: right;\">\n",
       "      <th></th>\n",
       "      <th>gene_ids</th>\n",
       "      <th>feature_types</th>\n",
       "      <th>genome</th>\n",
       "    </tr>\n",
       "  </thead>\n",
       "  <tbody>\n",
       "    <tr>\n",
       "      <th>MIR1302-2HG</th>\n",
       "      <td>ENSG00000243485</td>\n",
       "      <td>Gene Expression</td>\n",
       "      <td>GRCh38</td>\n",
       "    </tr>\n",
       "    <tr>\n",
       "      <th>FAM138A</th>\n",
       "      <td>ENSG00000237613</td>\n",
       "      <td>Gene Expression</td>\n",
       "      <td>GRCh38</td>\n",
       "    </tr>\n",
       "    <tr>\n",
       "      <th>OR4F5</th>\n",
       "      <td>ENSG00000186092</td>\n",
       "      <td>Gene Expression</td>\n",
       "      <td>GRCh38</td>\n",
       "    </tr>\n",
       "    <tr>\n",
       "      <th>AL627309.1</th>\n",
       "      <td>ENSG00000238009</td>\n",
       "      <td>Gene Expression</td>\n",
       "      <td>GRCh38</td>\n",
       "    </tr>\n",
       "    <tr>\n",
       "      <th>AL627309.3</th>\n",
       "      <td>ENSG00000239945</td>\n",
       "      <td>Gene Expression</td>\n",
       "      <td>GRCh38</td>\n",
       "    </tr>\n",
       "    <tr>\n",
       "      <th>...</th>\n",
       "      <td>...</td>\n",
       "      <td>...</td>\n",
       "      <td>...</td>\n",
       "    </tr>\n",
       "    <tr>\n",
       "      <th>AC233755.2</th>\n",
       "      <td>ENSG00000277856</td>\n",
       "      <td>Gene Expression</td>\n",
       "      <td>GRCh38</td>\n",
       "    </tr>\n",
       "    <tr>\n",
       "      <th>AC233755.1</th>\n",
       "      <td>ENSG00000275063</td>\n",
       "      <td>Gene Expression</td>\n",
       "      <td>GRCh38</td>\n",
       "    </tr>\n",
       "    <tr>\n",
       "      <th>AC240274.1</th>\n",
       "      <td>ENSG00000271254</td>\n",
       "      <td>Gene Expression</td>\n",
       "      <td>GRCh38</td>\n",
       "    </tr>\n",
       "    <tr>\n",
       "      <th>AC213203.1</th>\n",
       "      <td>ENSG00000277475</td>\n",
       "      <td>Gene Expression</td>\n",
       "      <td>GRCh38</td>\n",
       "    </tr>\n",
       "    <tr>\n",
       "      <th>FAM231C</th>\n",
       "      <td>ENSG00000268674</td>\n",
       "      <td>Gene Expression</td>\n",
       "      <td>GRCh38</td>\n",
       "    </tr>\n",
       "  </tbody>\n",
       "</table>\n",
       "<p>33538 rows × 3 columns</p>\n",
       "</div>"
      ],
      "text/plain": [
       "                    gene_ids    feature_types  genome\n",
       "MIR1302-2HG  ENSG00000243485  Gene Expression  GRCh38\n",
       "FAM138A      ENSG00000237613  Gene Expression  GRCh38\n",
       "OR4F5        ENSG00000186092  Gene Expression  GRCh38\n",
       "AL627309.1   ENSG00000238009  Gene Expression  GRCh38\n",
       "AL627309.3   ENSG00000239945  Gene Expression  GRCh38\n",
       "...                      ...              ...     ...\n",
       "AC233755.2   ENSG00000277856  Gene Expression  GRCh38\n",
       "AC233755.1   ENSG00000275063  Gene Expression  GRCh38\n",
       "AC240274.1   ENSG00000271254  Gene Expression  GRCh38\n",
       "AC213203.1   ENSG00000277475  Gene Expression  GRCh38\n",
       "FAM231C      ENSG00000268674  Gene Expression  GRCh38\n",
       "\n",
       "[33538 rows x 3 columns]"
      ]
     },
     "execution_count": 17,
     "metadata": {},
     "output_type": "execute_result"
    }
   ],
   "source": [
    "vis.var"
   ]
  },
  {
   "cell_type": "code",
   "execution_count": 18,
   "id": "missing-quality",
   "metadata": {},
   "outputs": [
    {
     "name": "stderr",
     "output_type": "stream",
     "text": [
      "... storing 'barcode' as categorical\n",
      "... storing 'library_id' as categorical\n",
      "... storing 'feature_types' as categorical\n",
      "... storing 'genome' as categorical\n"
     ]
    }
   ],
   "source": [
    "vis.write(lustre_path+\"/viss.h5ad\")"
   ]
  },
  {
   "cell_type": "code",
   "execution_count": null,
   "id": "behind-indicator",
   "metadata": {},
   "outputs": [],
   "source": []
  }
 ],
 "metadata": {
  "kernelspec": {
   "display_name": "Python 3",
   "language": "python",
   "name": "python3"
  },
  "language_info": {
   "codemirror_mode": {
    "name": "ipython",
    "version": 3
   },
   "file_extension": ".py",
   "mimetype": "text/x-python",
   "name": "python",
   "nbconvert_exporter": "python",
   "pygments_lexer": "ipython3",
   "version": "3.8.8"
  }
 },
 "nbformat": 4,
 "nbformat_minor": 5
}
